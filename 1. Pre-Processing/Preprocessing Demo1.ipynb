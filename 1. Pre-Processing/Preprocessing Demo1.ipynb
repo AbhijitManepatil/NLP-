{
 "cells": [
  {
   "cell_type": "code",
   "execution_count": 1,
   "id": "5834266c",
   "metadata": {},
   "outputs": [
    {
     "name": "stdout",
     "output_type": "stream",
     "text": [
      "Collecting nltk\n",
      "  Using cached nltk-3.7-py3-none-any.whl (1.5 MB)\n",
      "Collecting joblib\n",
      "  Using cached joblib-1.1.0-py2.py3-none-any.whl (306 kB)\n",
      "Collecting tqdm\n",
      "  Using cached tqdm-4.64.0-py2.py3-none-any.whl (78 kB)\n",
      "Collecting regex>=2021.8.3\n",
      "  Using cached regex-2022.3.15-cp38-cp38-manylinux_2_17_x86_64.manylinux2014_x86_64.whl (764 kB)\n",
      "Collecting click\n",
      "  Downloading click-8.1.2-py3-none-any.whl (96 kB)\n",
      "\u001b[K     |████████████████████████████████| 96 kB 149 kB/s eta 0:00:01\n",
      "\u001b[?25hInstalling collected packages: tqdm, regex, joblib, click, nltk\n",
      "Successfully installed click-8.1.2 joblib-1.1.0 nltk-3.7 regex-2022.3.15 tqdm-4.64.0\n"
     ]
    }
   ],
   "source": [
    "!pip install nltk"
   ]
  },
  {
   "cell_type": "code",
   "execution_count": 1,
   "id": "71b331cb",
   "metadata": {},
   "outputs": [
    {
     "name": "stdout",
     "output_type": "stream",
     "text": [
      "3.7\n"
     ]
    }
   ],
   "source": [
    "import nltk\n",
    "print(nltk.__version__)"
   ]
  },
  {
   "cell_type": "code",
   "execution_count": null,
   "id": "15fda557",
   "metadata": {},
   "outputs": [],
   "source": [
    "#1.Tokenization"
   ]
  },
  {
   "cell_type": "code",
   "execution_count": 5,
   "id": "4d50e33e",
   "metadata": {},
   "outputs": [
    {
     "name": "stdout",
     "output_type": "stream",
     "text": [
      "['I', 'want', 'to', 'book', 'a', 'car']\n"
     ]
    }
   ],
   "source": [
    "from nltk.tokenize import word_tokenize\n",
    "\n",
    "sentence = \"I want to book a car\"\n",
    "\n",
    "words = word_tokenize(sentence)\n",
    "print(words)"
   ]
  },
  {
   "cell_type": "code",
   "execution_count": 6,
   "id": "f42ab424",
   "metadata": {},
   "outputs": [
    {
     "data": {
      "text/plain": [
       "['I', 'want', 'to', 'book', 'a', 'car']"
      ]
     },
     "execution_count": 6,
     "metadata": {},
     "output_type": "execute_result"
    }
   ],
   "source": [
    "# with-out\n",
    "result=sentence.split()\n",
    "result"
   ]
  },
  {
   "cell_type": "code",
   "execution_count": null,
   "id": "21727dd5",
   "metadata": {},
   "outputs": [],
   "source": []
  },
  {
   "cell_type": "code",
   "execution_count": null,
   "id": "ddf3a441",
   "metadata": {},
   "outputs": [],
   "source": [
    "#2. lower"
   ]
  },
  {
   "cell_type": "code",
   "execution_count": 10,
   "id": "da882426",
   "metadata": {},
   "outputs": [
    {
     "data": {
      "text/plain": [
       "'i want to book a car'"
      ]
     },
     "execution_count": 10,
     "metadata": {},
     "output_type": "execute_result"
    }
   ],
   "source": [
    "sentence.lower()"
   ]
  },
  {
   "cell_type": "code",
   "execution_count": null,
   "id": "aab7b9ff",
   "metadata": {},
   "outputs": [],
   "source": []
  },
  {
   "cell_type": "code",
   "execution_count": null,
   "id": "09b63774",
   "metadata": {},
   "outputs": [],
   "source": [
    "#3. Stopwords"
   ]
  },
  {
   "cell_type": "code",
   "execution_count": 18,
   "id": "4de5b7f6",
   "metadata": {},
   "outputs": [
    {
     "name": "stdout",
     "output_type": "stream",
     "text": [
      "179\n",
      "{'once', 'when', 'of', 'who', 'whom', 'will', 'after', 'the', 'any', 'here', 'other', 'which', 'same', 'than', 'aren', 'you', 'a', 'if', \"isn't\", 'this', 'their', 'doing', 'y', 'its', \"wasn't\", 'ourselves', 'her', 'for', \"hadn't\", 'now', 'hasn', 'both', 'few', 'on', 'haven', 'only', 'doesn', 'what', 'they', 'off', 'shan', 'him', 'these', 'out', 'myself', 'and', 'wouldn', 'between', 'himself', \"won't\", 'being', \"that'll\", 'during', 'all', 'nor', 'before', 'further', 'own', 'needn', 'down', 'an', 'until', 'be', 't', 'o', 'mightn', 'we', \"it's\", 's', 'against', 'that', 'where', 'each', 'won', \"doesn't\", 'your', 'under', 'from', \"shan't\", 'so', 'theirs', 'not', 'he', 'some', 'can', 'has', 'about', 've', 'below', 'do', 'just', \"didn't\", \"she's\", 'by', 'was', 'while', 'having', 'have', 'should', \"wouldn't\", 'i', \"hasn't\", 'yourselves', 'to', 'no', 'me', \"weren't\", 'ours', 'themselves', 'don', 'in', 'herself', 'then', 'up', \"shouldn't\", 'with', 'm', \"couldn't\", \"needn't\", 'there', 'yourself', 'again', 'couldn', 'at', 'too', \"mustn't\", 'is', 'my', 'very', 'weren', 'itself', 'didn', \"don't\", 'more', 'over', 'them', 'into', 'did', 'how', 'does', 'above', 'wasn', 'such', 'it', 'those', 'because', 'she', 'had', 'isn', 'ma', 'but', 'are', 'll', \"aren't\", \"you've\", 'why', 're', \"haven't\", \"you'd\", 'his', 'most', 'as', 'shouldn', 'hadn', 'mustn', \"you'll\", 'hers', 'ain', 'our', 'd', 'been', 'am', \"you're\", 'or', 'were', 'yours', \"should've\", 'through', \"mightn't\"}\n",
      "180\n",
      "word_tokens===== ['I', 'want', 'to', 'book', 'a', 'car']\n",
      "['want', 'book', 'car']\n"
     ]
    }
   ],
   "source": [
    "from nltk.corpus import stopwords \n",
    "from nltk.tokenize import word_tokenize \n",
    "  \n",
    "sentence = \"I want to book a car\"\n",
    "\n",
    "#default\n",
    "stop_words = set(stopwords.words('english'))\n",
    "print(len(stop_words))\n",
    "print(stop_words)\n",
    "\n",
    "#customized stop words\n",
    "stop_words.add('I')\n",
    "print(len(stop_words))\n",
    "\n",
    "#tokenize\n",
    "word_tokens = word_tokenize(sentence)\n",
    "print(\"word_tokens=====\",word_tokens)\n",
    "#stop words\n",
    "filtered_sentence = [w for w in word_tokens if not w in stop_words] \n",
    "print(filtered_sentence)"
   ]
  },
  {
   "cell_type": "code",
   "execution_count": null,
   "id": "18a442bc",
   "metadata": {},
   "outputs": [],
   "source": []
  },
  {
   "cell_type": "code",
   "execution_count": null,
   "id": "8d72869b",
   "metadata": {},
   "outputs": [],
   "source": [
    "#4. Stemming\n",
    "#The stem does not make sense as it is not a word in English. This is a disadvantage of stemming."
   ]
  },
  {
   "cell_type": "code",
   "execution_count": 20,
   "id": "7675b9af",
   "metadata": {},
   "outputs": [
    {
     "name": "stdout",
     "output_type": "stream",
     "text": [
      "['Humans', 'are', 'machine']\n",
      "human\n",
      "are\n",
      "machin\n"
     ]
    }
   ],
   "source": [
    "import nltk\n",
    "from nltk.stem import PorterStemmer\n",
    "from nltk.tokenize import word_tokenize\n",
    "\n",
    "#stemmer object\n",
    "ps = PorterStemmer()\n",
    "\n",
    "# sentence = \"I am playing a cricket\"\n",
    "sentence =\"Humans are machine\"\n",
    "\n",
    "#tokenize\n",
    "word_tokens = word_tokenize(sentence)\n",
    "print(word_tokens)\n",
    "for word in word_tokens:\n",
    "    result=ps.stem(word)\n",
    "    print(result)\n",
    "\n",
    "    \n",
    "# for word in sentence.split():\n",
    "#   print(ps.stem(word))"
   ]
  },
  {
   "cell_type": "code",
   "execution_count": null,
   "id": "79387bf5",
   "metadata": {},
   "outputs": [],
   "source": []
  },
  {
   "cell_type": "code",
   "execution_count": 33,
   "id": "e3db777b",
   "metadata": {},
   "outputs": [],
   "source": [
    "#5. Lemmatization"
   ]
  },
  {
   "cell_type": "code",
   "execution_count": 34,
   "id": "b1a9b3dc",
   "metadata": {},
   "outputs": [],
   "source": [
    "# Lemmatization is preferred over Stemming because,\n",
    "# lemmatization does a morphological analysis of the words"
   ]
  },
  {
   "cell_type": "code",
   "execution_count": 13,
   "id": "7b5af648",
   "metadata": {},
   "outputs": [],
   "source": [
    "# import nltk\n",
    "# from nltk.stem import WordNetLemmatizer \n",
    "\n",
    "# lemmatizer = WordNetLemmatizer()\n",
    "\n",
    "# # sentence = \"I am playing a cricket\"\n",
    "# sentence =\"Humans are machine\"\n",
    "\n",
    "# #tokenize\n",
    "# word_tokens = word_tokenize(sentence)\n",
    "# for word in word_tokens:\n",
    "#     result=lemmatizer.lemmatize(word)\n",
    "#     print(result)\n",
    "\n",
    "# print(lemmatizer.lemmatize(\"Machine\", pos='n'))\n",
    "# # pos: parts of speech tag, verb\n",
    "# print(lemmatizer.lemmatize(\"caring\", pos='v'))"
   ]
  },
  {
   "cell_type": "code",
   "execution_count": null,
   "id": "e0595cc1",
   "metadata": {},
   "outputs": [],
   "source": [
    "# Improved #5. Lemmatization"
   ]
  },
  {
   "cell_type": "code",
   "execution_count": 37,
   "id": "e9e3b2fa",
   "metadata": {},
   "outputs": [
    {
     "name": "stderr",
     "output_type": "stream",
     "text": [
      "[nltk_data] Downloading package wordnet to /home/user/nltk_data...\n",
      "[nltk_data]   Unzipping corpora/wordnet.zip.\n"
     ]
    },
    {
     "data": {
      "text/plain": [
       "True"
      ]
     },
     "execution_count": 37,
     "metadata": {},
     "output_type": "execute_result"
    }
   ],
   "source": [
    "import nltk\n",
    "nltk.download('wordnet')"
   ]
  },
  {
   "cell_type": "code",
   "execution_count": 39,
   "id": "87327cf6",
   "metadata": {},
   "outputs": [
    {
     "name": "stderr",
     "output_type": "stream",
     "text": [
      "[nltk_data] Downloading package omw-1.4 to /home/user/nltk_data...\n",
      "[nltk_data]   Unzipping corpora/omw-1.4.zip.\n"
     ]
    },
    {
     "data": {
      "text/plain": [
       "True"
      ]
     },
     "execution_count": 39,
     "metadata": {},
     "output_type": "execute_result"
    }
   ],
   "source": [
    "import nltk\n",
    "nltk.download('omw-1.4')"
   ]
  },
  {
   "cell_type": "code",
   "execution_count": 22,
   "id": "8f466fed",
   "metadata": {},
   "outputs": [
    {
     "name": "stdout",
     "output_type": "stream",
     "text": [
      "Humans\n",
      "are\n",
      "machine\n"
     ]
    }
   ],
   "source": [
    "import nltk\n",
    "from nltk.stem import WordNetLemmatizer \n",
    "\n",
    "lemmatizer = WordNetLemmatizer()\n",
    "\n",
    "# sentence = \"I am playing a cricket\"\n",
    "sentence =\"Humans are machine\"\n",
    "# sentence =\"Suresh is singing a song\"\n",
    "\n",
    "#tokenize\n",
    "word_tokens = word_tokenize(sentence)\n",
    "for word in word_tokens:\n",
    "    result=lemmatizer.lemmatize(word)\n",
    "    print(result)\n"
   ]
  },
  {
   "cell_type": "code",
   "execution_count": null,
   "id": "73402432",
   "metadata": {},
   "outputs": [],
   "source": []
  },
  {
   "cell_type": "code",
   "execution_count": null,
   "id": "5af807d1",
   "metadata": {},
   "outputs": [],
   "source": []
  },
  {
   "cell_type": "code",
   "execution_count": null,
   "id": "e8fd0cac",
   "metadata": {},
   "outputs": [],
   "source": []
  }
 ],
 "metadata": {
  "kernelspec": {
   "display_name": "Python [conda env:NLP] *",
   "language": "python",
   "name": "conda-env-NLP-py"
  },
  "language_info": {
   "codemirror_mode": {
    "name": "ipython",
    "version": 3
   },
   "file_extension": ".py",
   "mimetype": "text/x-python",
   "name": "python",
   "nbconvert_exporter": "python",
   "pygments_lexer": "ipython3",
   "version": "3.8.13"
  }
 },
 "nbformat": 4,
 "nbformat_minor": 5
}
