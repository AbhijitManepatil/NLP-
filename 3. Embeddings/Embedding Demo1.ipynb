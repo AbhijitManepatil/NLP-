{
 "cells": [
  {
   "cell_type": "code",
   "execution_count": null,
   "id": "1a51e1a1",
   "metadata": {},
   "outputs": [],
   "source": [
    "# using Word2Vec usin Gensim"
   ]
  },
  {
   "cell_type": "code",
   "execution_count": 1,
   "id": "d7e2d0a0",
   "metadata": {},
   "outputs": [
    {
     "name": "stdout",
     "output_type": "stream",
     "text": [
      "Collecting gensim\n",
      "  Downloading gensim-4.1.2-cp38-cp38-manylinux_2_12_x86_64.manylinux2010_x86_64.whl (24.1 MB)\n",
      "\u001b[K     |████████████████████████████████| 24.1 MB 3.2 MB/s eta 0:00:01\n",
      "\u001b[?25hCollecting smart-open>=1.8.1\n",
      "  Using cached smart_open-5.2.1-py3-none-any.whl (58 kB)\n",
      "Collecting numpy>=1.17.0\n",
      "  Using cached numpy-1.22.3-cp38-cp38-manylinux_2_17_x86_64.manylinux2014_x86_64.whl (16.8 MB)\n",
      "Collecting scipy>=0.18.1\n",
      "  Using cached scipy-1.8.0-cp38-cp38-manylinux_2_17_x86_64.manylinux2014_x86_64.whl (41.6 MB)\n",
      "Installing collected packages: numpy, smart-open, scipy, gensim\n",
      "Successfully installed gensim-4.1.2 numpy-1.22.3 scipy-1.8.0 smart-open-5.2.1\n"
     ]
    }
   ],
   "source": [
    "!pip install gensim"
   ]
  },
  {
   "cell_type": "code",
   "execution_count": 12,
   "id": "cc03355c",
   "metadata": {},
   "outputs": [],
   "source": [
    "from gensim.models import Word2Vec\n",
    "\n",
    "import numpy as np\n",
    "import gensim\n",
    "from gensim.models import Word2Vec"
   ]
  },
  {
   "cell_type": "code",
   "execution_count": 20,
   "id": "3c8a8175",
   "metadata": {},
   "outputs": [],
   "source": [
    "datasentences = [['drink','not','good'],\n",
    "['felt','superb'],\n",
    "['just','good','ambience'],\n",
    "['bad','taste'],\n",
    "['parking','problem'],\n",
    "['fantastic','food']]\n",
    "y = np.array([0,1,1,0,0,1])# = \"my name is Abhijit\"\n",
    "# y = np.array([0,1,1,0,0,1]) vector_size"
   ]
  },
  {
   "cell_type": "code",
   "execution_count": 22,
   "id": "b530e653",
   "metadata": {},
   "outputs": [],
   "source": [
    "model = Word2Vec(sentences, min_count=1,vector_size=100)"
   ]
  },
  {
   "cell_type": "code",
   "execution_count": 24,
   "id": "9eb6845d",
   "metadata": {},
   "outputs": [
    {
     "data": {
      "text/plain": [
       "<gensim.models.word2vec.Word2Vec at 0x7fb9f0a3deb0>"
      ]
     },
     "execution_count": 24,
     "metadata": {},
     "output_type": "execute_result"
    }
   ],
   "source": [
    "model"
   ]
  },
  {
   "cell_type": "code",
   "execution_count": 83,
   "id": "5050b489",
   "metadata": {},
   "outputs": [],
   "source": [
    "# print(model['drink'])\n",
    "# words = list(model.wv.vocab)\n",
    "# print(words)"
   ]
  },
  {
   "cell_type": "code",
   "execution_count": 82,
   "id": "d41e6eb1",
   "metadata": {},
   "outputs": [],
   "source": [
    "# sentences = [ \"the quick brown fox jumps over the lazy dogs\",\n",
    "# \"Then a cop quizzed Mick Jagger's ex-wives briefly.\" ]\n",
    "# Word2Vec([s.encode('utf-8').split() for s in sentences], vector_size=100, window=5, min_count=5, workers=4)"
   ]
  },
  {
   "cell_type": "code",
   "execution_count": null,
   "id": "bfee509f",
   "metadata": {},
   "outputs": [],
   "source": [
    "#################### Count Vectorization\n"
   ]
  },
  {
   "cell_type": "code",
   "execution_count": 54,
   "id": "21a7f245",
   "metadata": {},
   "outputs": [],
   "source": [
    "from sklearn.feature_extraction.text import CountVectorizer"
   ]
  },
  {
   "cell_type": "code",
   "execution_count": 76,
   "id": "97a9eb02",
   "metadata": {},
   "outputs": [],
   "source": [
    "sents = ['coronavirus is highly infectious disease',\n",
    "   'coronavirus affects older people the most', \n",
    "   'older people are at high risk due to this disease']"
   ]
  },
  {
   "cell_type": "code",
   "execution_count": 77,
   "id": "6f11347b",
   "metadata": {},
   "outputs": [],
   "source": [
    "cv = CountVectorizer()"
   ]
  },
  {
   "cell_type": "code",
   "execution_count": 78,
   "id": "fe51f008",
   "metadata": {},
   "outputs": [],
   "source": [
    "X = cv.fit_transform(sents) \n",
    "X = X.toarray()"
   ]
  },
  {
   "cell_type": "code",
   "execution_count": 79,
   "id": "256924f2",
   "metadata": {},
   "outputs": [
    {
     "data": {
      "text/plain": [
       "array([[0, 0, 0, 1, 1, 0, 0, 1, 1, 1, 0, 0, 0, 0, 0, 0, 0],\n",
       "       [1, 0, 0, 1, 0, 0, 0, 0, 0, 0, 1, 1, 1, 0, 1, 0, 0],\n",
       "       [0, 1, 1, 0, 1, 1, 1, 0, 0, 0, 0, 1, 1, 1, 0, 1, 1]])"
      ]
     },
     "execution_count": 79,
     "metadata": {},
     "output_type": "execute_result"
    }
   ],
   "source": [
    "X"
   ]
  },
  {
   "cell_type": "code",
   "execution_count": 81,
   "id": "80039d7a",
   "metadata": {},
   "outputs": [],
   "source": [
    "            'coronavirus is highly infectious disease'\n",
    "            [affects,are,at,coronavirus,disease,due... ]\n",
    "vector_data=[0, 0, 0, 1, 1, 0, 0, 1, 1, 1, 0,  0,  0,   0,  0, 0,  0]\n",
    "index=      [0, 1, 2, 3, 4, 5, 6, 7, 8, 9, 10. 11, 12, 13, 14, 15, 16]\n",
    "\n",
    "{'affects': 0,'are': 1,'at': 2,'coronavirus': 3,'disease': 4,'due': 5,'high': 6,\n",
    " 'highly': 7,'infectious': 8,'is': 9,'most': 10,'older': 11,'people': 12,'risk': 13,'the': 14,\n",
    " 'this': 15, 'to': 16}\n",
    "==>coronavirus disease highly infectious is "
   ]
  },
  {
   "cell_type": "code",
   "execution_count": 85,
   "id": "cc8df7bf",
   "metadata": {},
   "outputs": [
    {
     "data": {
      "text/plain": [
       "{'affects': 0,\n",
       " 'are': 1,\n",
       " 'at': 2,\n",
       " 'coronavirus': 3,\n",
       " 'disease': 4,\n",
       " 'due': 5,\n",
       " 'high': 6,\n",
       " 'highly': 7,\n",
       " 'infectious': 8,\n",
       " 'is': 9,\n",
       " 'most': 10,\n",
       " 'older': 11,\n",
       " 'people': 12,\n",
       " 'risk': 13,\n",
       " 'the': 14,\n",
       " 'this': 15,\n",
       " 'to': 16}"
      ]
     },
     "execution_count": 85,
     "metadata": {},
     "output_type": "execute_result"
    }
   ],
   "source": [
    "# Printing the identified Unique words along with their indices\n",
    "# sorted(cv.vocabulary_.keys())\n",
    "# print(\"Vocabulary: \", sorted(cv.vocabulary_.values()))\n",
    "dict(sorted(cv.vocabulary_.items()))"
   ]
  },
  {
   "cell_type": "code",
   "execution_count": 37,
   "id": "a13b3714",
   "metadata": {},
   "outputs": [],
   "source": [
    "#################### TF IDF\n",
    "# !pip install scikit-learn"
   ]
  },
  {
   "cell_type": "code",
   "execution_count": 43,
   "id": "c65c90fc",
   "metadata": {},
   "outputs": [],
   "source": [
    "from sklearn.feature_extraction.text import TfidfVectorizer"
   ]
  },
  {
   "cell_type": "code",
   "execution_count": 39,
   "id": "c7147b1e",
   "metadata": {},
   "outputs": [],
   "source": [
    "sents = ['coronavirus is a highly infectious disease',\n",
    "   'coronavirus affects older people the most', \n",
    "   'older people are at high risk due to this disease']"
   ]
  },
  {
   "cell_type": "code",
   "execution_count": 44,
   "id": "51460405",
   "metadata": {},
   "outputs": [],
   "source": [
    "tfidf = TfidfVectorizer()"
   ]
  },
  {
   "cell_type": "code",
   "execution_count": 45,
   "id": "c3ef3aee",
   "metadata": {},
   "outputs": [],
   "source": [
    "transformed = tfidf.fit_transform(sents)"
   ]
  },
  {
   "cell_type": "code",
   "execution_count": 46,
   "id": "efd81dba",
   "metadata": {},
   "outputs": [
    {
     "data": {
      "text/plain": [
       "<3x17 sparse matrix of type '<class 'numpy.float64'>'\n",
       "\twith 21 stored elements in Compressed Sparse Row format>"
      ]
     },
     "execution_count": 46,
     "metadata": {},
     "output_type": "execute_result"
    }
   ],
   "source": [
    "transformed"
   ]
  },
  {
   "cell_type": "code",
   "execution_count": 49,
   "id": "7a66b4c7",
   "metadata": {},
   "outputs": [],
   "source": [
    "# !pip install pandas\n",
    "import pandas as pd"
   ]
  },
  {
   "cell_type": "code",
   "execution_count": 51,
   "id": "a6520866",
   "metadata": {},
   "outputs": [
    {
     "name": "stderr",
     "output_type": "stream",
     "text": [
      "/home/user/anaconda3/envs/NLP/lib/python3.8/site-packages/sklearn/utils/deprecation.py:87: FutureWarning: Function get_feature_names is deprecated; get_feature_names is deprecated in 1.0 and will be removed in 1.2. Please use get_feature_names_out instead.\n",
      "  warnings.warn(msg, category=FutureWarning)\n"
     ]
    }
   ],
   "source": [
    "df = pd.DataFrame(transformed[0].T.todense(),index=tfidf.get_feature_names(), columns=[\"TF-IDF\"])\n",
    "df = df.sort_values('TF-IDF', ascending=False)"
   ]
  },
  {
   "cell_type": "code",
   "execution_count": 53,
   "id": "33f9e8a3",
   "metadata": {},
   "outputs": [
    {
     "data": {
      "text/html": [
       "<div>\n",
       "<style scoped>\n",
       "    .dataframe tbody tr th:only-of-type {\n",
       "        vertical-align: middle;\n",
       "    }\n",
       "\n",
       "    .dataframe tbody tr th {\n",
       "        vertical-align: top;\n",
       "    }\n",
       "\n",
       "    .dataframe thead th {\n",
       "        text-align: right;\n",
       "    }\n",
       "</style>\n",
       "<table border=\"1\" class=\"dataframe\">\n",
       "  <thead>\n",
       "    <tr style=\"text-align: right;\">\n",
       "      <th></th>\n",
       "      <th>TF-IDF</th>\n",
       "    </tr>\n",
       "  </thead>\n",
       "  <tbody>\n",
       "    <tr>\n",
       "      <th>infectious</th>\n",
       "      <td>0.490479</td>\n",
       "    </tr>\n",
       "    <tr>\n",
       "      <th>highly</th>\n",
       "      <td>0.490479</td>\n",
       "    </tr>\n",
       "    <tr>\n",
       "      <th>is</th>\n",
       "      <td>0.490479</td>\n",
       "    </tr>\n",
       "    <tr>\n",
       "      <th>coronavirus</th>\n",
       "      <td>0.373022</td>\n",
       "    </tr>\n",
       "    <tr>\n",
       "      <th>disease</th>\n",
       "      <td>0.373022</td>\n",
       "    </tr>\n",
       "    <tr>\n",
       "      <th>older</th>\n",
       "      <td>0.000000</td>\n",
       "    </tr>\n",
       "    <tr>\n",
       "      <th>this</th>\n",
       "      <td>0.000000</td>\n",
       "    </tr>\n",
       "    <tr>\n",
       "      <th>the</th>\n",
       "      <td>0.000000</td>\n",
       "    </tr>\n",
       "    <tr>\n",
       "      <th>risk</th>\n",
       "      <td>0.000000</td>\n",
       "    </tr>\n",
       "    <tr>\n",
       "      <th>people</th>\n",
       "      <td>0.000000</td>\n",
       "    </tr>\n",
       "    <tr>\n",
       "      <th>affects</th>\n",
       "      <td>0.000000</td>\n",
       "    </tr>\n",
       "    <tr>\n",
       "      <th>most</th>\n",
       "      <td>0.000000</td>\n",
       "    </tr>\n",
       "    <tr>\n",
       "      <th>are</th>\n",
       "      <td>0.000000</td>\n",
       "    </tr>\n",
       "    <tr>\n",
       "      <th>high</th>\n",
       "      <td>0.000000</td>\n",
       "    </tr>\n",
       "    <tr>\n",
       "      <th>due</th>\n",
       "      <td>0.000000</td>\n",
       "    </tr>\n",
       "    <tr>\n",
       "      <th>at</th>\n",
       "      <td>0.000000</td>\n",
       "    </tr>\n",
       "    <tr>\n",
       "      <th>to</th>\n",
       "      <td>0.000000</td>\n",
       "    </tr>\n",
       "  </tbody>\n",
       "</table>\n",
       "</div>"
      ],
      "text/plain": [
       "               TF-IDF\n",
       "infectious   0.490479\n",
       "highly       0.490479\n",
       "is           0.490479\n",
       "coronavirus  0.373022\n",
       "disease      0.373022\n",
       "older        0.000000\n",
       "this         0.000000\n",
       "the          0.000000\n",
       "risk         0.000000\n",
       "people       0.000000\n",
       "affects      0.000000\n",
       "most         0.000000\n",
       "are          0.000000\n",
       "high         0.000000\n",
       "due          0.000000\n",
       "at           0.000000\n",
       "to           0.000000"
      ]
     },
     "execution_count": 53,
     "metadata": {},
     "output_type": "execute_result"
    }
   ],
   "source": [
    "df"
   ]
  },
  {
   "cell_type": "code",
   "execution_count": 60,
   "id": "7ed6513d",
   "metadata": {},
   "outputs": [],
   "source": [
    "################### Count Vectorization\n"
   ]
  },
  {
   "cell_type": "code",
   "execution_count": null,
   "id": "4dbd24f9",
   "metadata": {},
   "outputs": [],
   "source": []
  },
  {
   "cell_type": "code",
   "execution_count": null,
   "id": "4ab5402b",
   "metadata": {},
   "outputs": [],
   "source": []
  }
 ],
 "metadata": {
  "kernelspec": {
   "display_name": "Python [conda env:NLP] *",
   "language": "python",
   "name": "conda-env-NLP-py"
  },
  "language_info": {
   "codemirror_mode": {
    "name": "ipython",
    "version": 3
   },
   "file_extension": ".py",
   "mimetype": "text/x-python",
   "name": "python",
   "nbconvert_exporter": "python",
   "pygments_lexer": "ipython3",
   "version": "3.8.13"
  }
 },
 "nbformat": 4,
 "nbformat_minor": 5
}
